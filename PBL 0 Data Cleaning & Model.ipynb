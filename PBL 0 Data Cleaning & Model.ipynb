{
 "cells": [
  {
   "cell_type": "markdown",
   "metadata": {},
   "source": [
    "## Import Modules"
   ]
  },
  {
   "cell_type": "code",
   "execution_count": 1,
   "metadata": {
    "collapsed": true
   },
   "outputs": [],
   "source": [
    "import pandas as pd\n",
    "import numpy as np\n",
    "from sklearn.model_selection import train_test_split as tts\n",
    "from sklearn.ensemble import GradientBoostingClassifier\n",
    "from sklearn.model_selection import cross_val_score as cvs\n",
    "from sklearn.metrics import mean_squared_error\n",
    "from sklearn.model_selection import GridSearchCV as GSCV"
   ]
  },
  {
   "cell_type": "markdown",
   "metadata": {},
   "source": [
    "## Data Cleaning"
   ]
  },
  {
   "cell_type": "code",
   "execution_count": 2,
   "metadata": {},
   "outputs": [
    {
     "name": "stdout",
     "output_type": "stream",
     "text": [
      "<class 'pandas.core.frame.DataFrame'>\n",
      "RangeIndex: 31170 entries, 0 to 31169\n",
      "Data columns (total 2 columns):\n",
      "id            31170 non-null int64\n",
      "event_type    31170 non-null object\n",
      "dtypes: int64(1), object(1)\n",
      "memory usage: 487.1+ KB\n",
      "None\n"
     ]
    },
    {
     "data": {
      "text/html": [
       "<div>\n",
       "<style>\n",
       "    .dataframe thead tr:only-child th {\n",
       "        text-align: right;\n",
       "    }\n",
       "\n",
       "    .dataframe thead th {\n",
       "        text-align: left;\n",
       "    }\n",
       "\n",
       "    .dataframe tbody tr th {\n",
       "        vertical-align: top;\n",
       "    }\n",
       "</style>\n",
       "<table border=\"1\" class=\"dataframe\">\n",
       "  <thead>\n",
       "    <tr style=\"text-align: right;\">\n",
       "      <th></th>\n",
       "      <th>id</th>\n",
       "      <th>event_type</th>\n",
       "    </tr>\n",
       "  </thead>\n",
       "  <tbody>\n",
       "    <tr>\n",
       "      <th>0</th>\n",
       "      <td>6597</td>\n",
       "      <td>event_type 11</td>\n",
       "    </tr>\n",
       "    <tr>\n",
       "      <th>1</th>\n",
       "      <td>8011</td>\n",
       "      <td>event_type 15</td>\n",
       "    </tr>\n",
       "    <tr>\n",
       "      <th>2</th>\n",
       "      <td>2597</td>\n",
       "      <td>event_type 15</td>\n",
       "    </tr>\n",
       "    <tr>\n",
       "      <th>3</th>\n",
       "      <td>5022</td>\n",
       "      <td>event_type 15</td>\n",
       "    </tr>\n",
       "    <tr>\n",
       "      <th>4</th>\n",
       "      <td>5022</td>\n",
       "      <td>event_type 11</td>\n",
       "    </tr>\n",
       "  </tbody>\n",
       "</table>\n",
       "</div>"
      ],
      "text/plain": [
       "     id     event_type\n",
       "0  6597  event_type 11\n",
       "1  8011  event_type 15\n",
       "2  2597  event_type 15\n",
       "3  5022  event_type 15\n",
       "4  5022  event_type 11"
      ]
     },
     "execution_count": 2,
     "metadata": {},
     "output_type": "execute_result"
    }
   ],
   "source": [
    "eve = pd.read_csv('event_type.csv')\n",
    "print(eve.info())\n",
    "eve.head()"
   ]
  },
  {
   "cell_type": "code",
   "execution_count": 3,
   "metadata": {},
   "outputs": [
    {
     "name": "stdout",
     "output_type": "stream",
     "text": [
      "<class 'pandas.core.frame.DataFrame'>\n",
      "RangeIndex: 58671 entries, 0 to 58670\n",
      "Data columns (total 3 columns):\n",
      "id             58671 non-null int64\n",
      "log_feature    58671 non-null object\n",
      "volume         58671 non-null int64\n",
      "dtypes: int64(2), object(1)\n",
      "memory usage: 1.3+ MB\n",
      "None\n"
     ]
    },
    {
     "data": {
      "text/html": [
       "<div>\n",
       "<style>\n",
       "    .dataframe thead tr:only-child th {\n",
       "        text-align: right;\n",
       "    }\n",
       "\n",
       "    .dataframe thead th {\n",
       "        text-align: left;\n",
       "    }\n",
       "\n",
       "    .dataframe tbody tr th {\n",
       "        vertical-align: top;\n",
       "    }\n",
       "</style>\n",
       "<table border=\"1\" class=\"dataframe\">\n",
       "  <thead>\n",
       "    <tr style=\"text-align: right;\">\n",
       "      <th></th>\n",
       "      <th>id</th>\n",
       "      <th>log_feature</th>\n",
       "      <th>volume</th>\n",
       "    </tr>\n",
       "  </thead>\n",
       "  <tbody>\n",
       "    <tr>\n",
       "      <th>0</th>\n",
       "      <td>6597</td>\n",
       "      <td>feature 68</td>\n",
       "      <td>6</td>\n",
       "    </tr>\n",
       "    <tr>\n",
       "      <th>1</th>\n",
       "      <td>8011</td>\n",
       "      <td>feature 68</td>\n",
       "      <td>7</td>\n",
       "    </tr>\n",
       "    <tr>\n",
       "      <th>2</th>\n",
       "      <td>2597</td>\n",
       "      <td>feature 68</td>\n",
       "      <td>1</td>\n",
       "    </tr>\n",
       "    <tr>\n",
       "      <th>3</th>\n",
       "      <td>5022</td>\n",
       "      <td>feature 172</td>\n",
       "      <td>2</td>\n",
       "    </tr>\n",
       "    <tr>\n",
       "      <th>4</th>\n",
       "      <td>5022</td>\n",
       "      <td>feature 56</td>\n",
       "      <td>1</td>\n",
       "    </tr>\n",
       "  </tbody>\n",
       "</table>\n",
       "</div>"
      ],
      "text/plain": [
       "     id  log_feature  volume\n",
       "0  6597   feature 68       6\n",
       "1  8011   feature 68       7\n",
       "2  2597   feature 68       1\n",
       "3  5022  feature 172       2\n",
       "4  5022   feature 56       1"
      ]
     },
     "execution_count": 3,
     "metadata": {},
     "output_type": "execute_result"
    }
   ],
   "source": [
    "log = pd.read_csv('log_feature.csv')\n",
    "print(log.info())\n",
    "log.head()"
   ]
  },
  {
   "cell_type": "code",
   "execution_count": 4,
   "metadata": {},
   "outputs": [
    {
     "name": "stdout",
     "output_type": "stream",
     "text": [
      "<class 'pandas.core.frame.DataFrame'>\n",
      "RangeIndex: 21076 entries, 0 to 21075\n",
      "Data columns (total 2 columns):\n",
      "id               21076 non-null int64\n",
      "resource_type    21076 non-null object\n",
      "dtypes: int64(1), object(1)\n",
      "memory usage: 329.4+ KB\n",
      "None\n"
     ]
    },
    {
     "data": {
      "text/html": [
       "<div>\n",
       "<style>\n",
       "    .dataframe thead tr:only-child th {\n",
       "        text-align: right;\n",
       "    }\n",
       "\n",
       "    .dataframe thead th {\n",
       "        text-align: left;\n",
       "    }\n",
       "\n",
       "    .dataframe tbody tr th {\n",
       "        vertical-align: top;\n",
       "    }\n",
       "</style>\n",
       "<table border=\"1\" class=\"dataframe\">\n",
       "  <thead>\n",
       "    <tr style=\"text-align: right;\">\n",
       "      <th></th>\n",
       "      <th>id</th>\n",
       "      <th>resource_type</th>\n",
       "    </tr>\n",
       "  </thead>\n",
       "  <tbody>\n",
       "    <tr>\n",
       "      <th>0</th>\n",
       "      <td>6597</td>\n",
       "      <td>resource_type 8</td>\n",
       "    </tr>\n",
       "    <tr>\n",
       "      <th>1</th>\n",
       "      <td>8011</td>\n",
       "      <td>resource_type 8</td>\n",
       "    </tr>\n",
       "    <tr>\n",
       "      <th>2</th>\n",
       "      <td>2597</td>\n",
       "      <td>resource_type 8</td>\n",
       "    </tr>\n",
       "    <tr>\n",
       "      <th>3</th>\n",
       "      <td>5022</td>\n",
       "      <td>resource_type 8</td>\n",
       "    </tr>\n",
       "    <tr>\n",
       "      <th>4</th>\n",
       "      <td>6852</td>\n",
       "      <td>resource_type 8</td>\n",
       "    </tr>\n",
       "  </tbody>\n",
       "</table>\n",
       "</div>"
      ],
      "text/plain": [
       "     id    resource_type\n",
       "0  6597  resource_type 8\n",
       "1  8011  resource_type 8\n",
       "2  2597  resource_type 8\n",
       "3  5022  resource_type 8\n",
       "4  6852  resource_type 8"
      ]
     },
     "execution_count": 4,
     "metadata": {},
     "output_type": "execute_result"
    }
   ],
   "source": [
    "res = pd.read_csv('resource_type.csv')\n",
    "print(res.info())\n",
    "res.head()"
   ]
  },
  {
   "cell_type": "code",
   "execution_count": 5,
   "metadata": {},
   "outputs": [
    {
     "name": "stdout",
     "output_type": "stream",
     "text": [
      "<class 'pandas.core.frame.DataFrame'>\n",
      "RangeIndex: 18552 entries, 0 to 18551\n",
      "Data columns (total 2 columns):\n",
      "id               18552 non-null int64\n",
      "severity_type    18552 non-null object\n",
      "dtypes: int64(1), object(1)\n",
      "memory usage: 290.0+ KB\n",
      "None\n"
     ]
    },
    {
     "data": {
      "text/html": [
       "<div>\n",
       "<style>\n",
       "    .dataframe thead tr:only-child th {\n",
       "        text-align: right;\n",
       "    }\n",
       "\n",
       "    .dataframe thead th {\n",
       "        text-align: left;\n",
       "    }\n",
       "\n",
       "    .dataframe tbody tr th {\n",
       "        vertical-align: top;\n",
       "    }\n",
       "</style>\n",
       "<table border=\"1\" class=\"dataframe\">\n",
       "  <thead>\n",
       "    <tr style=\"text-align: right;\">\n",
       "      <th></th>\n",
       "      <th>id</th>\n",
       "      <th>severity_type</th>\n",
       "    </tr>\n",
       "  </thead>\n",
       "  <tbody>\n",
       "    <tr>\n",
       "      <th>0</th>\n",
       "      <td>6597</td>\n",
       "      <td>severity_type 2</td>\n",
       "    </tr>\n",
       "    <tr>\n",
       "      <th>1</th>\n",
       "      <td>8011</td>\n",
       "      <td>severity_type 2</td>\n",
       "    </tr>\n",
       "    <tr>\n",
       "      <th>2</th>\n",
       "      <td>2597</td>\n",
       "      <td>severity_type 2</td>\n",
       "    </tr>\n",
       "    <tr>\n",
       "      <th>3</th>\n",
       "      <td>5022</td>\n",
       "      <td>severity_type 1</td>\n",
       "    </tr>\n",
       "    <tr>\n",
       "      <th>4</th>\n",
       "      <td>6852</td>\n",
       "      <td>severity_type 1</td>\n",
       "    </tr>\n",
       "  </tbody>\n",
       "</table>\n",
       "</div>"
      ],
      "text/plain": [
       "     id    severity_type\n",
       "0  6597  severity_type 2\n",
       "1  8011  severity_type 2\n",
       "2  2597  severity_type 2\n",
       "3  5022  severity_type 1\n",
       "4  6852  severity_type 1"
      ]
     },
     "execution_count": 5,
     "metadata": {},
     "output_type": "execute_result"
    }
   ],
   "source": [
    "sev = pd.read_csv('severity_type.csv')\n",
    "print(sev.info())\n",
    "sev.head()"
   ]
  },
  {
   "cell_type": "code",
   "execution_count": 6,
   "metadata": {},
   "outputs": [
    {
     "data": {
      "text/html": [
       "<div>\n",
       "<style>\n",
       "    .dataframe thead tr:only-child th {\n",
       "        text-align: right;\n",
       "    }\n",
       "\n",
       "    .dataframe thead th {\n",
       "        text-align: left;\n",
       "    }\n",
       "\n",
       "    .dataframe tbody tr th {\n",
       "        vertical-align: top;\n",
       "    }\n",
       "</style>\n",
       "<table border=\"1\" class=\"dataframe\">\n",
       "  <thead>\n",
       "    <tr style=\"text-align: right;\">\n",
       "      <th></th>\n",
       "      <th>id</th>\n",
       "      <th>location</th>\n",
       "      <th>fault_severity</th>\n",
       "    </tr>\n",
       "  </thead>\n",
       "  <tbody>\n",
       "    <tr>\n",
       "      <th>0</th>\n",
       "      <td>14121</td>\n",
       "      <td>location 118</td>\n",
       "      <td>1</td>\n",
       "    </tr>\n",
       "    <tr>\n",
       "      <th>1</th>\n",
       "      <td>9320</td>\n",
       "      <td>location 91</td>\n",
       "      <td>0</td>\n",
       "    </tr>\n",
       "    <tr>\n",
       "      <th>2</th>\n",
       "      <td>14394</td>\n",
       "      <td>location 152</td>\n",
       "      <td>1</td>\n",
       "    </tr>\n",
       "    <tr>\n",
       "      <th>3</th>\n",
       "      <td>8218</td>\n",
       "      <td>location 931</td>\n",
       "      <td>1</td>\n",
       "    </tr>\n",
       "    <tr>\n",
       "      <th>4</th>\n",
       "      <td>14804</td>\n",
       "      <td>location 120</td>\n",
       "      <td>0</td>\n",
       "    </tr>\n",
       "  </tbody>\n",
       "</table>\n",
       "</div>"
      ],
      "text/plain": [
       "      id      location  fault_severity\n",
       "0  14121  location 118               1\n",
       "1   9320   location 91               0\n",
       "2  14394  location 152               1\n",
       "3   8218  location 931               1\n",
       "4  14804  location 120               0"
      ]
     },
     "execution_count": 6,
     "metadata": {},
     "output_type": "execute_result"
    }
   ],
   "source": [
    "train = pd.read_csv('train.csv')\n",
    "train.head()"
   ]
  },
  {
   "cell_type": "code",
   "execution_count": 7,
   "metadata": {},
   "outputs": [
    {
     "data": {
      "text/html": [
       "<div>\n",
       "<style>\n",
       "    .dataframe thead tr:only-child th {\n",
       "        text-align: right;\n",
       "    }\n",
       "\n",
       "    .dataframe thead th {\n",
       "        text-align: left;\n",
       "    }\n",
       "\n",
       "    .dataframe tbody tr th {\n",
       "        vertical-align: top;\n",
       "    }\n",
       "</style>\n",
       "<table border=\"1\" class=\"dataframe\">\n",
       "  <thead>\n",
       "    <tr style=\"text-align: right;\">\n",
       "      <th></th>\n",
       "      <th>id</th>\n",
       "      <th>event_type</th>\n",
       "      <th>log_feature</th>\n",
       "      <th>volume</th>\n",
       "    </tr>\n",
       "  </thead>\n",
       "  <tbody>\n",
       "    <tr>\n",
       "      <th>0</th>\n",
       "      <td>6597</td>\n",
       "      <td>event_type 11</td>\n",
       "      <td>feature 68</td>\n",
       "      <td>6</td>\n",
       "    </tr>\n",
       "    <tr>\n",
       "      <th>1</th>\n",
       "      <td>8011</td>\n",
       "      <td>event_type 15</td>\n",
       "      <td>feature 68</td>\n",
       "      <td>7</td>\n",
       "    </tr>\n",
       "    <tr>\n",
       "      <th>2</th>\n",
       "      <td>2597</td>\n",
       "      <td>event_type 15</td>\n",
       "      <td>feature 68</td>\n",
       "      <td>1</td>\n",
       "    </tr>\n",
       "    <tr>\n",
       "      <th>3</th>\n",
       "      <td>5022</td>\n",
       "      <td>event_type 15</td>\n",
       "      <td>feature 172</td>\n",
       "      <td>2</td>\n",
       "    </tr>\n",
       "    <tr>\n",
       "      <th>4</th>\n",
       "      <td>5022</td>\n",
       "      <td>event_type 15</td>\n",
       "      <td>feature 56</td>\n",
       "      <td>1</td>\n",
       "    </tr>\n",
       "  </tbody>\n",
       "</table>\n",
       "</div>"
      ],
      "text/plain": [
       "     id     event_type  log_feature  volume\n",
       "0  6597  event_type 11   feature 68       6\n",
       "1  8011  event_type 15   feature 68       7\n",
       "2  2597  event_type 15   feature 68       1\n",
       "3  5022  event_type 15  feature 172       2\n",
       "4  5022  event_type 15   feature 56       1"
      ]
     },
     "execution_count": 7,
     "metadata": {},
     "output_type": "execute_result"
    }
   ],
   "source": [
    "merge0 = pd.merge(left=eve, right=log)\n",
    "merge0.head()"
   ]
  },
  {
   "cell_type": "code",
   "execution_count": 8,
   "metadata": {},
   "outputs": [
    {
     "data": {
      "text/html": [
       "<div>\n",
       "<style>\n",
       "    .dataframe thead tr:only-child th {\n",
       "        text-align: right;\n",
       "    }\n",
       "\n",
       "    .dataframe thead th {\n",
       "        text-align: left;\n",
       "    }\n",
       "\n",
       "    .dataframe tbody tr th {\n",
       "        vertical-align: top;\n",
       "    }\n",
       "</style>\n",
       "<table border=\"1\" class=\"dataframe\">\n",
       "  <thead>\n",
       "    <tr style=\"text-align: right;\">\n",
       "      <th></th>\n",
       "      <th>id</th>\n",
       "      <th>resource_type</th>\n",
       "      <th>severity_type</th>\n",
       "    </tr>\n",
       "  </thead>\n",
       "  <tbody>\n",
       "    <tr>\n",
       "      <th>0</th>\n",
       "      <td>6597</td>\n",
       "      <td>resource_type 8</td>\n",
       "      <td>severity_type 2</td>\n",
       "    </tr>\n",
       "    <tr>\n",
       "      <th>1</th>\n",
       "      <td>8011</td>\n",
       "      <td>resource_type 8</td>\n",
       "      <td>severity_type 2</td>\n",
       "    </tr>\n",
       "    <tr>\n",
       "      <th>2</th>\n",
       "      <td>2597</td>\n",
       "      <td>resource_type 8</td>\n",
       "      <td>severity_type 2</td>\n",
       "    </tr>\n",
       "    <tr>\n",
       "      <th>3</th>\n",
       "      <td>5022</td>\n",
       "      <td>resource_type 8</td>\n",
       "      <td>severity_type 1</td>\n",
       "    </tr>\n",
       "    <tr>\n",
       "      <th>4</th>\n",
       "      <td>6852</td>\n",
       "      <td>resource_type 8</td>\n",
       "      <td>severity_type 1</td>\n",
       "    </tr>\n",
       "  </tbody>\n",
       "</table>\n",
       "</div>"
      ],
      "text/plain": [
       "     id    resource_type    severity_type\n",
       "0  6597  resource_type 8  severity_type 2\n",
       "1  8011  resource_type 8  severity_type 2\n",
       "2  2597  resource_type 8  severity_type 2\n",
       "3  5022  resource_type 8  severity_type 1\n",
       "4  6852  resource_type 8  severity_type 1"
      ]
     },
     "execution_count": 8,
     "metadata": {},
     "output_type": "execute_result"
    }
   ],
   "source": [
    "merge1 = pd.merge(left=res,right=sev)\n",
    "merge1.head()"
   ]
  },
  {
   "cell_type": "code",
   "execution_count": 9,
   "metadata": {},
   "outputs": [
    {
     "name": "stdout",
     "output_type": "stream",
     "text": [
      "<class 'pandas.core.frame.DataFrame'>\n",
      "Int64Index: 146423 entries, 0 to 146422\n",
      "Data columns (total 6 columns):\n",
      "id               146423 non-null int64\n",
      "event_type       146423 non-null object\n",
      "log_feature      146423 non-null object\n",
      "volume           146423 non-null int64\n",
      "resource_type    146423 non-null object\n",
      "severity_type    146423 non-null object\n",
      "dtypes: int64(2), object(4)\n",
      "memory usage: 7.8+ MB\n",
      "None\n"
     ]
    },
    {
     "data": {
      "text/html": [
       "<div>\n",
       "<style>\n",
       "    .dataframe thead tr:only-child th {\n",
       "        text-align: right;\n",
       "    }\n",
       "\n",
       "    .dataframe thead th {\n",
       "        text-align: left;\n",
       "    }\n",
       "\n",
       "    .dataframe tbody tr th {\n",
       "        vertical-align: top;\n",
       "    }\n",
       "</style>\n",
       "<table border=\"1\" class=\"dataframe\">\n",
       "  <thead>\n",
       "    <tr style=\"text-align: right;\">\n",
       "      <th></th>\n",
       "      <th>id</th>\n",
       "      <th>event_type</th>\n",
       "      <th>log_feature</th>\n",
       "      <th>volume</th>\n",
       "      <th>resource_type</th>\n",
       "      <th>severity_type</th>\n",
       "    </tr>\n",
       "  </thead>\n",
       "  <tbody>\n",
       "    <tr>\n",
       "      <th>0</th>\n",
       "      <td>6597</td>\n",
       "      <td>event_type 11</td>\n",
       "      <td>feature 68</td>\n",
       "      <td>6</td>\n",
       "      <td>resource_type 8</td>\n",
       "      <td>severity_type 2</td>\n",
       "    </tr>\n",
       "    <tr>\n",
       "      <th>1</th>\n",
       "      <td>8011</td>\n",
       "      <td>event_type 15</td>\n",
       "      <td>feature 68</td>\n",
       "      <td>7</td>\n",
       "      <td>resource_type 8</td>\n",
       "      <td>severity_type 2</td>\n",
       "    </tr>\n",
       "    <tr>\n",
       "      <th>2</th>\n",
       "      <td>2597</td>\n",
       "      <td>event_type 15</td>\n",
       "      <td>feature 68</td>\n",
       "      <td>1</td>\n",
       "      <td>resource_type 8</td>\n",
       "      <td>severity_type 2</td>\n",
       "    </tr>\n",
       "    <tr>\n",
       "      <th>3</th>\n",
       "      <td>5022</td>\n",
       "      <td>event_type 15</td>\n",
       "      <td>feature 172</td>\n",
       "      <td>2</td>\n",
       "      <td>resource_type 8</td>\n",
       "      <td>severity_type 1</td>\n",
       "    </tr>\n",
       "    <tr>\n",
       "      <th>4</th>\n",
       "      <td>5022</td>\n",
       "      <td>event_type 15</td>\n",
       "      <td>feature 56</td>\n",
       "      <td>1</td>\n",
       "      <td>resource_type 8</td>\n",
       "      <td>severity_type 1</td>\n",
       "    </tr>\n",
       "  </tbody>\n",
       "</table>\n",
       "</div>"
      ],
      "text/plain": [
       "     id     event_type  log_feature  volume    resource_type    severity_type\n",
       "0  6597  event_type 11   feature 68       6  resource_type 8  severity_type 2\n",
       "1  8011  event_type 15   feature 68       7  resource_type 8  severity_type 2\n",
       "2  2597  event_type 15   feature 68       1  resource_type 8  severity_type 2\n",
       "3  5022  event_type 15  feature 172       2  resource_type 8  severity_type 1\n",
       "4  5022  event_type 15   feature 56       1  resource_type 8  severity_type 1"
      ]
     },
     "execution_count": 9,
     "metadata": {},
     "output_type": "execute_result"
    }
   ],
   "source": [
    "merge2 = pd.merge(left=merge0, right=merge1)#, on='id')\n",
    "print(merge2.info())\n",
    "merge2.head()"
   ]
  },
  {
   "cell_type": "code",
   "execution_count": 10,
   "metadata": {},
   "outputs": [
    {
     "name": "stdout",
     "output_type": "stream",
     "text": [
      "<class 'pandas.core.frame.DataFrame'>\n",
      "Int64Index: 61839 entries, 0 to 61838\n",
      "Data columns (total 8 columns):\n",
      "id                61839 non-null int64\n",
      "location          61839 non-null object\n",
      "fault_severity    61839 non-null int64\n",
      "event_type        61839 non-null object\n",
      "log_feature       61839 non-null object\n",
      "volume            61839 non-null int64\n",
      "resource_type     61839 non-null object\n",
      "severity_type     61839 non-null object\n",
      "dtypes: int64(3), object(5)\n",
      "memory usage: 4.2+ MB\n",
      "None\n"
     ]
    },
    {
     "data": {
      "text/html": [
       "<div>\n",
       "<style>\n",
       "    .dataframe thead tr:only-child th {\n",
       "        text-align: right;\n",
       "    }\n",
       "\n",
       "    .dataframe thead th {\n",
       "        text-align: left;\n",
       "    }\n",
       "\n",
       "    .dataframe tbody tr th {\n",
       "        vertical-align: top;\n",
       "    }\n",
       "</style>\n",
       "<table border=\"1\" class=\"dataframe\">\n",
       "  <thead>\n",
       "    <tr style=\"text-align: right;\">\n",
       "      <th></th>\n",
       "      <th>id</th>\n",
       "      <th>location</th>\n",
       "      <th>fault_severity</th>\n",
       "      <th>event_type</th>\n",
       "      <th>log_feature</th>\n",
       "      <th>volume</th>\n",
       "      <th>resource_type</th>\n",
       "      <th>severity_type</th>\n",
       "    </tr>\n",
       "  </thead>\n",
       "  <tbody>\n",
       "    <tr>\n",
       "      <th>0</th>\n",
       "      <td>14121</td>\n",
       "      <td>location 118</td>\n",
       "      <td>1</td>\n",
       "      <td>event_type 34</td>\n",
       "      <td>feature 312</td>\n",
       "      <td>19</td>\n",
       "      <td>resource_type 2</td>\n",
       "      <td>severity_type 2</td>\n",
       "    </tr>\n",
       "    <tr>\n",
       "      <th>1</th>\n",
       "      <td>14121</td>\n",
       "      <td>location 118</td>\n",
       "      <td>1</td>\n",
       "      <td>event_type 34</td>\n",
       "      <td>feature 232</td>\n",
       "      <td>19</td>\n",
       "      <td>resource_type 2</td>\n",
       "      <td>severity_type 2</td>\n",
       "    </tr>\n",
       "    <tr>\n",
       "      <th>2</th>\n",
       "      <td>14121</td>\n",
       "      <td>location 118</td>\n",
       "      <td>1</td>\n",
       "      <td>event_type 35</td>\n",
       "      <td>feature 312</td>\n",
       "      <td>19</td>\n",
       "      <td>resource_type 2</td>\n",
       "      <td>severity_type 2</td>\n",
       "    </tr>\n",
       "    <tr>\n",
       "      <th>3</th>\n",
       "      <td>14121</td>\n",
       "      <td>location 118</td>\n",
       "      <td>1</td>\n",
       "      <td>event_type 35</td>\n",
       "      <td>feature 232</td>\n",
       "      <td>19</td>\n",
       "      <td>resource_type 2</td>\n",
       "      <td>severity_type 2</td>\n",
       "    </tr>\n",
       "    <tr>\n",
       "      <th>4</th>\n",
       "      <td>9320</td>\n",
       "      <td>location 91</td>\n",
       "      <td>0</td>\n",
       "      <td>event_type 34</td>\n",
       "      <td>feature 315</td>\n",
       "      <td>200</td>\n",
       "      <td>resource_type 2</td>\n",
       "      <td>severity_type 2</td>\n",
       "    </tr>\n",
       "  </tbody>\n",
       "</table>\n",
       "</div>"
      ],
      "text/plain": [
       "      id      location  fault_severity     event_type  log_feature  volume  \\\n",
       "0  14121  location 118               1  event_type 34  feature 312      19   \n",
       "1  14121  location 118               1  event_type 34  feature 232      19   \n",
       "2  14121  location 118               1  event_type 35  feature 312      19   \n",
       "3  14121  location 118               1  event_type 35  feature 232      19   \n",
       "4   9320   location 91               0  event_type 34  feature 315     200   \n",
       "\n",
       "     resource_type    severity_type  \n",
       "0  resource_type 2  severity_type 2  \n",
       "1  resource_type 2  severity_type 2  \n",
       "2  resource_type 2  severity_type 2  \n",
       "3  resource_type 2  severity_type 2  \n",
       "4  resource_type 2  severity_type 2  "
      ]
     },
     "execution_count": 10,
     "metadata": {},
     "output_type": "execute_result"
    }
   ],
   "source": [
    "df = pd.merge(left=train, right=merge2)#, on='id')\n",
    "print(df.info())\n",
    "df.head()"
   ]
  },
  {
   "cell_type": "code",
   "execution_count": 11,
   "metadata": {},
   "outputs": [
    {
     "data": {
      "text/plain": [
       "['id',\n",
       " 'location',\n",
       " 'fault_severity',\n",
       " 'event_type',\n",
       " 'log_feature',\n",
       " 'volume',\n",
       " 'resource_type',\n",
       " 'severity_type']"
      ]
     },
     "execution_count": 11,
     "metadata": {},
     "output_type": "execute_result"
    }
   ],
   "source": [
    "list(df.columns)"
   ]
  },
  {
   "cell_type": "code",
   "execution_count": 12,
   "metadata": {},
   "outputs": [
    {
     "data": {
      "text/plain": [
       "['location', 'event_type', 'log_feature', 'resource_type', 'severity_type']"
      ]
     },
     "execution_count": 12,
     "metadata": {},
     "output_type": "execute_result"
    }
   ],
   "source": [
    "col = list(df.columns)\n",
    "del col[0]\n",
    "del col[1]\n",
    "del col[3]\n",
    "col"
   ]
  },
  {
   "cell_type": "code",
   "execution_count": 13,
   "metadata": {
    "collapsed": true
   },
   "outputs": [],
   "source": [
    "for i in range(len(col)):\n",
    "    df[col[i]] = df[col[i]].apply(lambda x:x.split()[1])"
   ]
  },
  {
   "cell_type": "code",
   "execution_count": 14,
   "metadata": {},
   "outputs": [
    {
     "data": {
      "text/html": [
       "<div>\n",
       "<style>\n",
       "    .dataframe thead tr:only-child th {\n",
       "        text-align: right;\n",
       "    }\n",
       "\n",
       "    .dataframe thead th {\n",
       "        text-align: left;\n",
       "    }\n",
       "\n",
       "    .dataframe tbody tr th {\n",
       "        vertical-align: top;\n",
       "    }\n",
       "</style>\n",
       "<table border=\"1\" class=\"dataframe\">\n",
       "  <thead>\n",
       "    <tr style=\"text-align: right;\">\n",
       "      <th></th>\n",
       "      <th>id</th>\n",
       "      <th>location</th>\n",
       "      <th>fault_severity</th>\n",
       "      <th>event_type</th>\n",
       "      <th>log_feature</th>\n",
       "      <th>volume</th>\n",
       "      <th>resource_type</th>\n",
       "      <th>severity_type</th>\n",
       "    </tr>\n",
       "  </thead>\n",
       "  <tbody>\n",
       "    <tr>\n",
       "      <th>0</th>\n",
       "      <td>14121</td>\n",
       "      <td>118</td>\n",
       "      <td>1</td>\n",
       "      <td>34</td>\n",
       "      <td>312</td>\n",
       "      <td>19</td>\n",
       "      <td>2</td>\n",
       "      <td>2</td>\n",
       "    </tr>\n",
       "    <tr>\n",
       "      <th>1</th>\n",
       "      <td>14121</td>\n",
       "      <td>118</td>\n",
       "      <td>1</td>\n",
       "      <td>34</td>\n",
       "      <td>232</td>\n",
       "      <td>19</td>\n",
       "      <td>2</td>\n",
       "      <td>2</td>\n",
       "    </tr>\n",
       "    <tr>\n",
       "      <th>2</th>\n",
       "      <td>14121</td>\n",
       "      <td>118</td>\n",
       "      <td>1</td>\n",
       "      <td>35</td>\n",
       "      <td>312</td>\n",
       "      <td>19</td>\n",
       "      <td>2</td>\n",
       "      <td>2</td>\n",
       "    </tr>\n",
       "    <tr>\n",
       "      <th>3</th>\n",
       "      <td>14121</td>\n",
       "      <td>118</td>\n",
       "      <td>1</td>\n",
       "      <td>35</td>\n",
       "      <td>232</td>\n",
       "      <td>19</td>\n",
       "      <td>2</td>\n",
       "      <td>2</td>\n",
       "    </tr>\n",
       "    <tr>\n",
       "      <th>4</th>\n",
       "      <td>9320</td>\n",
       "      <td>91</td>\n",
       "      <td>0</td>\n",
       "      <td>34</td>\n",
       "      <td>315</td>\n",
       "      <td>200</td>\n",
       "      <td>2</td>\n",
       "      <td>2</td>\n",
       "    </tr>\n",
       "  </tbody>\n",
       "</table>\n",
       "</div>"
      ],
      "text/plain": [
       "      id location  fault_severity event_type log_feature  volume  \\\n",
       "0  14121      118               1         34         312      19   \n",
       "1  14121      118               1         34         232      19   \n",
       "2  14121      118               1         35         312      19   \n",
       "3  14121      118               1         35         232      19   \n",
       "4   9320       91               0         34         315     200   \n",
       "\n",
       "  resource_type severity_type  \n",
       "0             2             2  \n",
       "1             2             2  \n",
       "2             2             2  \n",
       "3             2             2  \n",
       "4             2             2  "
      ]
     },
     "execution_count": 14,
     "metadata": {},
     "output_type": "execute_result"
    }
   ],
   "source": [
    "df.head()"
   ]
  },
  {
   "cell_type": "code",
   "execution_count": 15,
   "metadata": {},
   "outputs": [
    {
     "name": "stdout",
     "output_type": "stream",
     "text": [
      "<class 'pandas.core.frame.DataFrame'>\n",
      "Int64Index: 61839 entries, 0 to 61838\n",
      "Data columns (total 8 columns):\n",
      "id                61839 non-null int64\n",
      "location          61839 non-null object\n",
      "fault_severity    61839 non-null int64\n",
      "event_type        61839 non-null object\n",
      "log_feature       61839 non-null object\n",
      "volume            61839 non-null int64\n",
      "resource_type     61839 non-null object\n",
      "severity_type     61839 non-null object\n",
      "dtypes: int64(3), object(5)\n",
      "memory usage: 4.2+ MB\n"
     ]
    }
   ],
   "source": [
    "df.info()"
   ]
  },
  {
   "cell_type": "code",
   "execution_count": 16,
   "metadata": {},
   "outputs": [
    {
     "data": {
      "text/html": [
       "<div>\n",
       "<style>\n",
       "    .dataframe thead tr:only-child th {\n",
       "        text-align: right;\n",
       "    }\n",
       "\n",
       "    .dataframe thead th {\n",
       "        text-align: left;\n",
       "    }\n",
       "\n",
       "    .dataframe tbody tr th {\n",
       "        vertical-align: top;\n",
       "    }\n",
       "</style>\n",
       "<table border=\"1\" class=\"dataframe\">\n",
       "  <thead>\n",
       "    <tr style=\"text-align: right;\">\n",
       "      <th></th>\n",
       "      <th>id</th>\n",
       "      <th>location</th>\n",
       "      <th>event_type</th>\n",
       "      <th>log_feature</th>\n",
       "      <th>volume</th>\n",
       "      <th>resource_type</th>\n",
       "      <th>severity_type</th>\n",
       "    </tr>\n",
       "  </thead>\n",
       "  <tbody>\n",
       "    <tr>\n",
       "      <th>0</th>\n",
       "      <td>14121</td>\n",
       "      <td>118</td>\n",
       "      <td>34</td>\n",
       "      <td>312</td>\n",
       "      <td>19</td>\n",
       "      <td>2</td>\n",
       "      <td>2</td>\n",
       "    </tr>\n",
       "    <tr>\n",
       "      <th>1</th>\n",
       "      <td>14121</td>\n",
       "      <td>118</td>\n",
       "      <td>34</td>\n",
       "      <td>232</td>\n",
       "      <td>19</td>\n",
       "      <td>2</td>\n",
       "      <td>2</td>\n",
       "    </tr>\n",
       "    <tr>\n",
       "      <th>2</th>\n",
       "      <td>14121</td>\n",
       "      <td>118</td>\n",
       "      <td>35</td>\n",
       "      <td>312</td>\n",
       "      <td>19</td>\n",
       "      <td>2</td>\n",
       "      <td>2</td>\n",
       "    </tr>\n",
       "    <tr>\n",
       "      <th>3</th>\n",
       "      <td>14121</td>\n",
       "      <td>118</td>\n",
       "      <td>35</td>\n",
       "      <td>232</td>\n",
       "      <td>19</td>\n",
       "      <td>2</td>\n",
       "      <td>2</td>\n",
       "    </tr>\n",
       "    <tr>\n",
       "      <th>4</th>\n",
       "      <td>9320</td>\n",
       "      <td>91</td>\n",
       "      <td>34</td>\n",
       "      <td>315</td>\n",
       "      <td>200</td>\n",
       "      <td>2</td>\n",
       "      <td>2</td>\n",
       "    </tr>\n",
       "  </tbody>\n",
       "</table>\n",
       "</div>"
      ],
      "text/plain": [
       "      id location event_type log_feature  volume resource_type severity_type\n",
       "0  14121      118         34         312      19             2             2\n",
       "1  14121      118         34         232      19             2             2\n",
       "2  14121      118         35         312      19             2             2\n",
       "3  14121      118         35         232      19             2             2\n",
       "4   9320       91         34         315     200             2             2"
      ]
     },
     "execution_count": 16,
     "metadata": {},
     "output_type": "execute_result"
    }
   ],
   "source": [
    "data = df.drop('fault_severity',axis=1)\n",
    "data.head()"
   ]
  },
  {
   "cell_type": "code",
   "execution_count": 17,
   "metadata": {},
   "outputs": [
    {
     "data": {
      "text/html": [
       "<div>\n",
       "<style>\n",
       "    .dataframe thead tr:only-child th {\n",
       "        text-align: right;\n",
       "    }\n",
       "\n",
       "    .dataframe thead th {\n",
       "        text-align: left;\n",
       "    }\n",
       "\n",
       "    .dataframe tbody tr th {\n",
       "        vertical-align: top;\n",
       "    }\n",
       "</style>\n",
       "<table border=\"1\" class=\"dataframe\">\n",
       "  <thead>\n",
       "    <tr style=\"text-align: right;\">\n",
       "      <th></th>\n",
       "      <th>id</th>\n",
       "      <th>volume</th>\n",
       "      <th>location_10</th>\n",
       "      <th>location_100</th>\n",
       "      <th>location_1000</th>\n",
       "      <th>location_1002</th>\n",
       "      <th>location_1005</th>\n",
       "      <th>location_1006</th>\n",
       "      <th>location_1007</th>\n",
       "      <th>location_1008</th>\n",
       "      <th>...</th>\n",
       "      <th>resource_type_4</th>\n",
       "      <th>resource_type_5</th>\n",
       "      <th>resource_type_6</th>\n",
       "      <th>resource_type_7</th>\n",
       "      <th>resource_type_8</th>\n",
       "      <th>resource_type_9</th>\n",
       "      <th>severity_type_2</th>\n",
       "      <th>severity_type_3</th>\n",
       "      <th>severity_type_4</th>\n",
       "      <th>severity_type_5</th>\n",
       "    </tr>\n",
       "  </thead>\n",
       "  <tbody>\n",
       "    <tr>\n",
       "      <th>0</th>\n",
       "      <td>14121</td>\n",
       "      <td>19</td>\n",
       "      <td>0</td>\n",
       "      <td>0</td>\n",
       "      <td>0</td>\n",
       "      <td>0</td>\n",
       "      <td>0</td>\n",
       "      <td>0</td>\n",
       "      <td>0</td>\n",
       "      <td>0</td>\n",
       "      <td>...</td>\n",
       "      <td>0</td>\n",
       "      <td>0</td>\n",
       "      <td>0</td>\n",
       "      <td>0</td>\n",
       "      <td>0</td>\n",
       "      <td>0</td>\n",
       "      <td>1</td>\n",
       "      <td>0</td>\n",
       "      <td>0</td>\n",
       "      <td>0</td>\n",
       "    </tr>\n",
       "    <tr>\n",
       "      <th>1</th>\n",
       "      <td>14121</td>\n",
       "      <td>19</td>\n",
       "      <td>0</td>\n",
       "      <td>0</td>\n",
       "      <td>0</td>\n",
       "      <td>0</td>\n",
       "      <td>0</td>\n",
       "      <td>0</td>\n",
       "      <td>0</td>\n",
       "      <td>0</td>\n",
       "      <td>...</td>\n",
       "      <td>0</td>\n",
       "      <td>0</td>\n",
       "      <td>0</td>\n",
       "      <td>0</td>\n",
       "      <td>0</td>\n",
       "      <td>0</td>\n",
       "      <td>1</td>\n",
       "      <td>0</td>\n",
       "      <td>0</td>\n",
       "      <td>0</td>\n",
       "    </tr>\n",
       "    <tr>\n",
       "      <th>2</th>\n",
       "      <td>14121</td>\n",
       "      <td>19</td>\n",
       "      <td>0</td>\n",
       "      <td>0</td>\n",
       "      <td>0</td>\n",
       "      <td>0</td>\n",
       "      <td>0</td>\n",
       "      <td>0</td>\n",
       "      <td>0</td>\n",
       "      <td>0</td>\n",
       "      <td>...</td>\n",
       "      <td>0</td>\n",
       "      <td>0</td>\n",
       "      <td>0</td>\n",
       "      <td>0</td>\n",
       "      <td>0</td>\n",
       "      <td>0</td>\n",
       "      <td>1</td>\n",
       "      <td>0</td>\n",
       "      <td>0</td>\n",
       "      <td>0</td>\n",
       "    </tr>\n",
       "    <tr>\n",
       "      <th>3</th>\n",
       "      <td>14121</td>\n",
       "      <td>19</td>\n",
       "      <td>0</td>\n",
       "      <td>0</td>\n",
       "      <td>0</td>\n",
       "      <td>0</td>\n",
       "      <td>0</td>\n",
       "      <td>0</td>\n",
       "      <td>0</td>\n",
       "      <td>0</td>\n",
       "      <td>...</td>\n",
       "      <td>0</td>\n",
       "      <td>0</td>\n",
       "      <td>0</td>\n",
       "      <td>0</td>\n",
       "      <td>0</td>\n",
       "      <td>0</td>\n",
       "      <td>1</td>\n",
       "      <td>0</td>\n",
       "      <td>0</td>\n",
       "      <td>0</td>\n",
       "    </tr>\n",
       "    <tr>\n",
       "      <th>4</th>\n",
       "      <td>9320</td>\n",
       "      <td>200</td>\n",
       "      <td>0</td>\n",
       "      <td>0</td>\n",
       "      <td>0</td>\n",
       "      <td>0</td>\n",
       "      <td>0</td>\n",
       "      <td>0</td>\n",
       "      <td>0</td>\n",
       "      <td>0</td>\n",
       "      <td>...</td>\n",
       "      <td>0</td>\n",
       "      <td>0</td>\n",
       "      <td>0</td>\n",
       "      <td>0</td>\n",
       "      <td>0</td>\n",
       "      <td>0</td>\n",
       "      <td>1</td>\n",
       "      <td>0</td>\n",
       "      <td>0</td>\n",
       "      <td>0</td>\n",
       "    </tr>\n",
       "  </tbody>\n",
       "</table>\n",
       "<p>5 rows × 1321 columns</p>\n",
       "</div>"
      ],
      "text/plain": [
       "      id  volume  location_10  location_100  location_1000  location_1002  \\\n",
       "0  14121      19            0             0              0              0   \n",
       "1  14121      19            0             0              0              0   \n",
       "2  14121      19            0             0              0              0   \n",
       "3  14121      19            0             0              0              0   \n",
       "4   9320     200            0             0              0              0   \n",
       "\n",
       "   location_1005  location_1006  location_1007  location_1008  \\\n",
       "0              0              0              0              0   \n",
       "1              0              0              0              0   \n",
       "2              0              0              0              0   \n",
       "3              0              0              0              0   \n",
       "4              0              0              0              0   \n",
       "\n",
       "        ...         resource_type_4  resource_type_5  resource_type_6  \\\n",
       "0       ...                       0                0                0   \n",
       "1       ...                       0                0                0   \n",
       "2       ...                       0                0                0   \n",
       "3       ...                       0                0                0   \n",
       "4       ...                       0                0                0   \n",
       "\n",
       "   resource_type_7  resource_type_8  resource_type_9  severity_type_2  \\\n",
       "0                0                0                0                1   \n",
       "1                0                0                0                1   \n",
       "2                0                0                0                1   \n",
       "3                0                0                0                1   \n",
       "4                0                0                0                1   \n",
       "\n",
       "   severity_type_3  severity_type_4  severity_type_5  \n",
       "0                0                0                0  \n",
       "1                0                0                0  \n",
       "2                0                0                0  \n",
       "3                0                0                0  \n",
       "4                0                0                0  \n",
       "\n",
       "[5 rows x 1321 columns]"
      ]
     },
     "execution_count": 17,
     "metadata": {},
     "output_type": "execute_result"
    }
   ],
   "source": [
    "datadummy = pd.get_dummies(data,drop_first=True)\n",
    "datadummy.head()"
   ]
  },
  {
   "cell_type": "code",
   "execution_count": 18,
   "metadata": {},
   "outputs": [
    {
     "data": {
      "text/html": [
       "<div>\n",
       "<style>\n",
       "    .dataframe thead tr:only-child th {\n",
       "        text-align: right;\n",
       "    }\n",
       "\n",
       "    .dataframe thead th {\n",
       "        text-align: left;\n",
       "    }\n",
       "\n",
       "    .dataframe tbody tr th {\n",
       "        vertical-align: top;\n",
       "    }\n",
       "</style>\n",
       "<table border=\"1\" class=\"dataframe\">\n",
       "  <thead>\n",
       "    <tr style=\"text-align: right;\">\n",
       "      <th></th>\n",
       "      <th>volume</th>\n",
       "      <th>location_10</th>\n",
       "      <th>location_100</th>\n",
       "      <th>location_1000</th>\n",
       "      <th>location_1002</th>\n",
       "      <th>location_1005</th>\n",
       "      <th>location_1006</th>\n",
       "      <th>location_1007</th>\n",
       "      <th>location_1008</th>\n",
       "      <th>location_1009</th>\n",
       "      <th>...</th>\n",
       "      <th>resource_type_4</th>\n",
       "      <th>resource_type_5</th>\n",
       "      <th>resource_type_6</th>\n",
       "      <th>resource_type_7</th>\n",
       "      <th>resource_type_8</th>\n",
       "      <th>resource_type_9</th>\n",
       "      <th>severity_type_2</th>\n",
       "      <th>severity_type_3</th>\n",
       "      <th>severity_type_4</th>\n",
       "      <th>severity_type_5</th>\n",
       "    </tr>\n",
       "    <tr>\n",
       "      <th>id</th>\n",
       "      <th></th>\n",
       "      <th></th>\n",
       "      <th></th>\n",
       "      <th></th>\n",
       "      <th></th>\n",
       "      <th></th>\n",
       "      <th></th>\n",
       "      <th></th>\n",
       "      <th></th>\n",
       "      <th></th>\n",
       "      <th></th>\n",
       "      <th></th>\n",
       "      <th></th>\n",
       "      <th></th>\n",
       "      <th></th>\n",
       "      <th></th>\n",
       "      <th></th>\n",
       "      <th></th>\n",
       "      <th></th>\n",
       "      <th></th>\n",
       "      <th></th>\n",
       "    </tr>\n",
       "  </thead>\n",
       "  <tbody>\n",
       "    <tr>\n",
       "      <th>14121</th>\n",
       "      <td>76</td>\n",
       "      <td>0.0</td>\n",
       "      <td>0.0</td>\n",
       "      <td>0.0</td>\n",
       "      <td>0.0</td>\n",
       "      <td>0.0</td>\n",
       "      <td>0.0</td>\n",
       "      <td>0.0</td>\n",
       "      <td>0.0</td>\n",
       "      <td>0.0</td>\n",
       "      <td>...</td>\n",
       "      <td>0.0</td>\n",
       "      <td>0.0</td>\n",
       "      <td>0.0</td>\n",
       "      <td>0.0</td>\n",
       "      <td>0.0</td>\n",
       "      <td>0.0</td>\n",
       "      <td>4.0</td>\n",
       "      <td>0.0</td>\n",
       "      <td>0.0</td>\n",
       "      <td>0.0</td>\n",
       "    </tr>\n",
       "    <tr>\n",
       "      <th>9320</th>\n",
       "      <td>632</td>\n",
       "      <td>0.0</td>\n",
       "      <td>0.0</td>\n",
       "      <td>0.0</td>\n",
       "      <td>0.0</td>\n",
       "      <td>0.0</td>\n",
       "      <td>0.0</td>\n",
       "      <td>0.0</td>\n",
       "      <td>0.0</td>\n",
       "      <td>0.0</td>\n",
       "      <td>...</td>\n",
       "      <td>0.0</td>\n",
       "      <td>0.0</td>\n",
       "      <td>0.0</td>\n",
       "      <td>0.0</td>\n",
       "      <td>0.0</td>\n",
       "      <td>0.0</td>\n",
       "      <td>4.0</td>\n",
       "      <td>0.0</td>\n",
       "      <td>0.0</td>\n",
       "      <td>0.0</td>\n",
       "    </tr>\n",
       "    <tr>\n",
       "      <th>14394</th>\n",
       "      <td>4</td>\n",
       "      <td>0.0</td>\n",
       "      <td>0.0</td>\n",
       "      <td>0.0</td>\n",
       "      <td>0.0</td>\n",
       "      <td>0.0</td>\n",
       "      <td>0.0</td>\n",
       "      <td>0.0</td>\n",
       "      <td>0.0</td>\n",
       "      <td>0.0</td>\n",
       "      <td>...</td>\n",
       "      <td>0.0</td>\n",
       "      <td>0.0</td>\n",
       "      <td>0.0</td>\n",
       "      <td>0.0</td>\n",
       "      <td>0.0</td>\n",
       "      <td>0.0</td>\n",
       "      <td>4.0</td>\n",
       "      <td>0.0</td>\n",
       "      <td>0.0</td>\n",
       "      <td>0.0</td>\n",
       "    </tr>\n",
       "    <tr>\n",
       "      <th>8218</th>\n",
       "      <td>44</td>\n",
       "      <td>0.0</td>\n",
       "      <td>0.0</td>\n",
       "      <td>0.0</td>\n",
       "      <td>0.0</td>\n",
       "      <td>0.0</td>\n",
       "      <td>0.0</td>\n",
       "      <td>0.0</td>\n",
       "      <td>0.0</td>\n",
       "      <td>0.0</td>\n",
       "      <td>...</td>\n",
       "      <td>0.0</td>\n",
       "      <td>0.0</td>\n",
       "      <td>0.0</td>\n",
       "      <td>0.0</td>\n",
       "      <td>6.0</td>\n",
       "      <td>0.0</td>\n",
       "      <td>0.0</td>\n",
       "      <td>0.0</td>\n",
       "      <td>0.0</td>\n",
       "      <td>0.0</td>\n",
       "    </tr>\n",
       "    <tr>\n",
       "      <th>14804</th>\n",
       "      <td>96</td>\n",
       "      <td>0.0</td>\n",
       "      <td>0.0</td>\n",
       "      <td>0.0</td>\n",
       "      <td>0.0</td>\n",
       "      <td>0.0</td>\n",
       "      <td>0.0</td>\n",
       "      <td>0.0</td>\n",
       "      <td>0.0</td>\n",
       "      <td>0.0</td>\n",
       "      <td>...</td>\n",
       "      <td>0.0</td>\n",
       "      <td>0.0</td>\n",
       "      <td>0.0</td>\n",
       "      <td>0.0</td>\n",
       "      <td>36.0</td>\n",
       "      <td>0.0</td>\n",
       "      <td>0.0</td>\n",
       "      <td>0.0</td>\n",
       "      <td>0.0</td>\n",
       "      <td>0.0</td>\n",
       "    </tr>\n",
       "  </tbody>\n",
       "</table>\n",
       "<p>5 rows × 1320 columns</p>\n",
       "</div>"
      ],
      "text/plain": [
       "       volume  location_10  location_100  location_1000  location_1002  \\\n",
       "id                                                                       \n",
       "14121      76          0.0           0.0            0.0            0.0   \n",
       "9320      632          0.0           0.0            0.0            0.0   \n",
       "14394       4          0.0           0.0            0.0            0.0   \n",
       "8218       44          0.0           0.0            0.0            0.0   \n",
       "14804      96          0.0           0.0            0.0            0.0   \n",
       "\n",
       "       location_1005  location_1006  location_1007  location_1008  \\\n",
       "id                                                                  \n",
       "14121            0.0            0.0            0.0            0.0   \n",
       "9320             0.0            0.0            0.0            0.0   \n",
       "14394            0.0            0.0            0.0            0.0   \n",
       "8218             0.0            0.0            0.0            0.0   \n",
       "14804            0.0            0.0            0.0            0.0   \n",
       "\n",
       "       location_1009       ...         resource_type_4  resource_type_5  \\\n",
       "id                         ...                                            \n",
       "14121            0.0       ...                     0.0              0.0   \n",
       "9320             0.0       ...                     0.0              0.0   \n",
       "14394            0.0       ...                     0.0              0.0   \n",
       "8218             0.0       ...                     0.0              0.0   \n",
       "14804            0.0       ...                     0.0              0.0   \n",
       "\n",
       "       resource_type_6  resource_type_7  resource_type_8  resource_type_9  \\\n",
       "id                                                                          \n",
       "14121              0.0              0.0              0.0              0.0   \n",
       "9320               0.0              0.0              0.0              0.0   \n",
       "14394              0.0              0.0              0.0              0.0   \n",
       "8218               0.0              0.0              6.0              0.0   \n",
       "14804              0.0              0.0             36.0              0.0   \n",
       "\n",
       "       severity_type_2  severity_type_3  severity_type_4  severity_type_5  \n",
       "id                                                                         \n",
       "14121              4.0              0.0              0.0              0.0  \n",
       "9320               4.0              0.0              0.0              0.0  \n",
       "14394              4.0              0.0              0.0              0.0  \n",
       "8218               0.0              0.0              0.0              0.0  \n",
       "14804              0.0              0.0              0.0              0.0  \n",
       "\n",
       "[5 rows x 1320 columns]"
      ]
     },
     "execution_count": 18,
     "metadata": {},
     "output_type": "execute_result"
    }
   ],
   "source": [
    "df = datadummy.groupby(['id'],sort=False).sum()\n",
    "df.head()"
   ]
  },
  {
   "cell_type": "code",
   "execution_count": 19,
   "metadata": {},
   "outputs": [
    {
     "name": "stdout",
     "output_type": "stream",
     "text": [
      "<class 'pandas.core.frame.DataFrame'>\n",
      "Int64Index: 7381 entries, 14121 to 17067\n",
      "Columns: 1320 entries, volume to severity_type_5\n",
      "dtypes: float64(1319), int64(1)\n",
      "memory usage: 74.4 MB\n"
     ]
    }
   ],
   "source": [
    "df.info()"
   ]
  },
  {
   "cell_type": "code",
   "execution_count": 20,
   "metadata": {},
   "outputs": [
    {
     "name": "stdout",
     "output_type": "stream",
     "text": [
      "<class 'pandas.core.frame.DataFrame'>\n",
      "Int64Index: 7381 entries, 14121 to 17067\n",
      "Columns: 1320 entries, volume to severity_type_5\n",
      "dtypes: int32(1320)\n",
      "memory usage: 37.2 MB\n"
     ]
    }
   ],
   "source": [
    "df = df.astype(int)\n",
    "df.info()"
   ]
  },
  {
   "cell_type": "code",
   "execution_count": 21,
   "metadata": {
    "collapsed": true
   },
   "outputs": [],
   "source": [
    "X = df\n",
    "y = train['fault_severity']"
   ]
  },
  {
   "cell_type": "code",
   "execution_count": 22,
   "metadata": {
    "collapsed": true
   },
   "outputs": [],
   "source": [
    "Xtrain, Xtest, ytrain, ytest = tts(X,y, test_size=0.2, random_state=25)"
   ]
  },
  {
   "cell_type": "markdown",
   "metadata": {},
   "source": [
    "## GridSearchCV"
   ]
  },
  {
   "cell_type": "raw",
   "metadata": {
    "collapsed": true
   },
   "source": [
    "# This Gradient Boosting with default values.\n",
    "gb = GradientBoostingClassifier(min_samples_split=2, min_samples_leaf=1, min_weight_fraction_leaf=0, \n",
    "                               max_depth=3, max_leaf_nodes=None, max_features=None, learning_rate=0.1,\n",
    "                               n_estimators=100, subsample=1.0, loss='deviance', init=None, \n",
    "                               random_state=None, verbose=0, warm_start=False, presort='auto')"
   ]
  },
  {
   "cell_type": "code",
   "execution_count": null,
   "metadata": {
    "collapsed": true
   },
   "outputs": [],
   "source": [
    "para_test1 = {'n_estimators':range(20,101,10)}"
   ]
  },
  {
   "cell_type": "code",
   "execution_count": null,
   "metadata": {
    "collapsed": true
   },
   "outputs": [],
   "source": [
    "gb = GradientBoostingClassifier(min_samples_split=50, min_samples_leaf=50, max_depth=8, \n",
    "                                max_features='sqrt', subsample=0.8, random_state=10)"
   ]
  },
  {
   "cell_type": "code",
   "execution_count": null,
   "metadata": {
    "collapsed": true
   },
   "outputs": [],
   "source": [
    "grids1 = GSCV(gb, para_test1, n_jobs=4, iid=False, cv=5) # Why doesn't scoring='roc_auc' work?\n",
    "grids1.fit(X, y)\n",
    "grids1.grid_scores_, grids1.best_params_, grids1.best_score_"
   ]
  },
  {
   "cell_type": "code",
   "execution_count": null,
   "metadata": {
    "collapsed": true
   },
   "outputs": [],
   "source": [
    "para_test2 = {'max_depth':range(4,21,2), 'min_samples_split':range(200,1001,200)}"
   ]
  },
  {
   "cell_type": "code",
   "execution_count": null,
   "metadata": {
    "collapsed": true
   },
   "outputs": [],
   "source": [
    "# This Graident Boosting with adjusted parameters.\n",
    "gb = GradientBoostingClassifier(n_estimators=90, min_samples_leaf=50, \n",
    "                                max_features='sqrt', subsample=0.8, \n",
    "                                random_state=10)"
   ]
  },
  {
   "cell_type": "code",
   "execution_count": 36,
   "metadata": {
    "scrolled": true
   },
   "outputs": [
    {
     "name": "stderr",
     "output_type": "stream",
     "text": [
      "C:\\Users\\New User\\Anaconda3\\lib\\site-packages\\sklearn\\model_selection\\_search.py:761: DeprecationWarning: The grid_scores_ attribute was deprecated in version 0.18 in favor of the more elaborate cv_results_ attribute. The grid_scores_ attribute will not be available from 0.20\n",
      "  DeprecationWarning)\n"
     ]
    },
    {
     "data": {
      "text/plain": [
       "([mean: 0.71210, std: 0.00979, params: {'max_depth': 4, 'min_samples_split': 200},\n",
       "  mean: 0.71292, std: 0.00804, params: {'max_depth': 4, 'min_samples_split': 400},\n",
       "  mean: 0.71156, std: 0.00905, params: {'max_depth': 4, 'min_samples_split': 600},\n",
       "  mean: 0.71210, std: 0.00969, params: {'max_depth': 4, 'min_samples_split': 800},\n",
       "  mean: 0.71278, std: 0.00848, params: {'max_depth': 4, 'min_samples_split': 1000},\n",
       "  mean: 0.71617, std: 0.01031, params: {'max_depth': 6, 'min_samples_split': 200},\n",
       "  mean: 0.71671, std: 0.00941, params: {'max_depth': 6, 'min_samples_split': 400},\n",
       "  mean: 0.71711, std: 0.00912, params: {'max_depth': 6, 'min_samples_split': 600},\n",
       "  mean: 0.71684, std: 0.00940, params: {'max_depth': 6, 'min_samples_split': 800},\n",
       "  mean: 0.71630, std: 0.00875, params: {'max_depth': 6, 'min_samples_split': 1000},\n",
       "  mean: 0.71522, std: 0.00910, params: {'max_depth': 8, 'min_samples_split': 200},\n",
       "  mean: 0.71698, std: 0.00959, params: {'max_depth': 8, 'min_samples_split': 400},\n",
       "  mean: 0.71711, std: 0.01077, params: {'max_depth': 8, 'min_samples_split': 600},\n",
       "  mean: 0.71644, std: 0.01011, params: {'max_depth': 8, 'min_samples_split': 800},\n",
       "  mean: 0.71739, std: 0.00918, params: {'max_depth': 8, 'min_samples_split': 1000},\n",
       "  mean: 0.71711, std: 0.00911, params: {'max_depth': 10, 'min_samples_split': 200},\n",
       "  mean: 0.71657, std: 0.00998, params: {'max_depth': 10, 'min_samples_split': 400},\n",
       "  mean: 0.71820, std: 0.01012, params: {'max_depth': 10, 'min_samples_split': 600},\n",
       "  mean: 0.71779, std: 0.00912, params: {'max_depth': 10, 'min_samples_split': 800},\n",
       "  mean: 0.71698, std: 0.00952, params: {'max_depth': 10, 'min_samples_split': 1000},\n",
       "  mean: 0.71671, std: 0.00986, params: {'max_depth': 12, 'min_samples_split': 200},\n",
       "  mean: 0.71779, std: 0.01107, params: {'max_depth': 12, 'min_samples_split': 400},\n",
       "  mean: 0.71766, std: 0.01117, params: {'max_depth': 12, 'min_samples_split': 600},\n",
       "  mean: 0.71698, std: 0.01035, params: {'max_depth': 12, 'min_samples_split': 800},\n",
       "  mean: 0.71766, std: 0.00945, params: {'max_depth': 12, 'min_samples_split': 1000},\n",
       "  mean: 0.71698, std: 0.01066, params: {'max_depth': 14, 'min_samples_split': 200},\n",
       "  mean: 0.71766, std: 0.01082, params: {'max_depth': 14, 'min_samples_split': 400},\n",
       "  mean: 0.71698, std: 0.01123, params: {'max_depth': 14, 'min_samples_split': 600},\n",
       "  mean: 0.71752, std: 0.00845, params: {'max_depth': 14, 'min_samples_split': 800},\n",
       "  mean: 0.71684, std: 0.00982, params: {'max_depth': 14, 'min_samples_split': 1000},\n",
       "  mean: 0.71712, std: 0.00979, params: {'max_depth': 16, 'min_samples_split': 200},\n",
       "  mean: 0.71793, std: 0.01068, params: {'max_depth': 16, 'min_samples_split': 400},\n",
       "  mean: 0.71779, std: 0.01037, params: {'max_depth': 16, 'min_samples_split': 600},\n",
       "  mean: 0.71698, std: 0.00920, params: {'max_depth': 16, 'min_samples_split': 800},\n",
       "  mean: 0.71793, std: 0.00835, params: {'max_depth': 16, 'min_samples_split': 1000},\n",
       "  mean: 0.71671, std: 0.01008, params: {'max_depth': 18, 'min_samples_split': 200},\n",
       "  mean: 0.71739, std: 0.01147, params: {'max_depth': 18, 'min_samples_split': 400},\n",
       "  mean: 0.71739, std: 0.01089, params: {'max_depth': 18, 'min_samples_split': 600},\n",
       "  mean: 0.71698, std: 0.00920, params: {'max_depth': 18, 'min_samples_split': 800},\n",
       "  mean: 0.71793, std: 0.00835, params: {'max_depth': 18, 'min_samples_split': 1000},\n",
       "  mean: 0.71671, std: 0.01008, params: {'max_depth': 20, 'min_samples_split': 200},\n",
       "  mean: 0.71739, std: 0.01147, params: {'max_depth': 20, 'min_samples_split': 400},\n",
       "  mean: 0.71739, std: 0.01089, params: {'max_depth': 20, 'min_samples_split': 600},\n",
       "  mean: 0.71698, std: 0.00920, params: {'max_depth': 20, 'min_samples_split': 800},\n",
       "  mean: 0.71793, std: 0.00835, params: {'max_depth': 20, 'min_samples_split': 1000}],\n",
       " {'max_depth': 10, 'min_samples_split': 600},\n",
       " 0.71819817538557484)"
      ]
     },
     "execution_count": 36,
     "metadata": {},
     "output_type": "execute_result"
    }
   ],
   "source": [
    "grids2 = GSCV(gb, para_test2, n_jobs=4, iid=False, cv=5)\n",
    "grids2.fit(X, y)\n",
    "grids2.grid_scores_, grids2.best_params_, grids2.best_score_"
   ]
  },
  {
   "cell_type": "code",
   "execution_count": 51,
   "metadata": {
    "collapsed": true
   },
   "outputs": [],
   "source": [
    "para_test3 = {'min_samples_leaf':range(1,6,1)}"
   ]
  },
  {
   "cell_type": "code",
   "execution_count": 52,
   "metadata": {
    "collapsed": true
   },
   "outputs": [],
   "source": [
    "gb = GradientBoostingClassifier(n_estimators=90, max_depth=10, min_samples_split=600, \n",
    "                                max_features='sqrt', subsample=0.8, random_state=10)"
   ]
  },
  {
   "cell_type": "code",
   "execution_count": 53,
   "metadata": {
    "scrolled": true
   },
   "outputs": [
    {
     "name": "stderr",
     "output_type": "stream",
     "text": [
      "C:\\Users\\New User\\Anaconda3\\lib\\site-packages\\sklearn\\model_selection\\_search.py:761: DeprecationWarning: The grid_scores_ attribute was deprecated in version 0.18 in favor of the more elaborate cv_results_ attribute. The grid_scores_ attribute will not be available from 0.20\n",
      "  DeprecationWarning)\n"
     ]
    },
    {
     "data": {
      "text/plain": [
       "([mean: 0.73256, std: 0.01312, params: {'min_samples_leaf': 1},\n",
       "  mean: 0.73730, std: 0.01361, params: {'min_samples_leaf': 2},\n",
       "  mean: 0.73351, std: 0.00886, params: {'min_samples_leaf': 3},\n",
       "  mean: 0.73513, std: 0.01016, params: {'min_samples_leaf': 4},\n",
       "  mean: 0.73378, std: 0.01035, params: {'min_samples_leaf': 5}],\n",
       " {'min_samples_leaf': 2},\n",
       " 0.73730148614850521)"
      ]
     },
     "execution_count": 53,
     "metadata": {},
     "output_type": "execute_result"
    }
   ],
   "source": [
    "grids3 = GSCV(gb, para_test3, n_jobs=4, iid=False, cv=5)\n",
    "grids3.fit(X, y)\n",
    "grids3.grid_scores_, grids3.best_params_, grids3.best_score_"
   ]
  },
  {
   "cell_type": "code",
   "execution_count": 54,
   "metadata": {
    "collapsed": true
   },
   "outputs": [],
   "source": [
    "para_test4 = {'max_features':range(100,601,100)}"
   ]
  },
  {
   "cell_type": "code",
   "execution_count": 55,
   "metadata": {
    "collapsed": true
   },
   "outputs": [],
   "source": [
    "gb = GradientBoostingClassifier(n_estimators=90, max_depth=10, min_samples_split=600, \n",
    "                                min_samples_leaf=2, subsample=0.8, random_state=10)"
   ]
  },
  {
   "cell_type": "code",
   "execution_count": 56,
   "metadata": {},
   "outputs": [
    {
     "name": "stderr",
     "output_type": "stream",
     "text": [
      "C:\\Users\\New User\\Anaconda3\\lib\\site-packages\\sklearn\\model_selection\\_search.py:761: DeprecationWarning: The grid_scores_ attribute was deprecated in version 0.18 in favor of the more elaborate cv_results_ attribute. The grid_scores_ attribute will not be available from 0.20\n",
      "  DeprecationWarning)\n"
     ]
    },
    {
     "data": {
      "text/plain": [
       "([mean: 0.73567, std: 0.01063, params: {'max_features': 100},\n",
       "  mean: 0.74109, std: 0.00801, params: {'max_features': 200},\n",
       "  mean: 0.73839, std: 0.00709, params: {'max_features': 300},\n",
       "  mean: 0.73906, std: 0.00711, params: {'max_features': 400},\n",
       "  mean: 0.73879, std: 0.00988, params: {'max_features': 500},\n",
       "  mean: 0.74028, std: 0.00909, params: {'max_features': 600}],\n",
       " {'max_features': 200},\n",
       " 0.74109497886382736)"
      ]
     },
     "execution_count": 56,
     "metadata": {},
     "output_type": "execute_result"
    }
   ],
   "source": [
    "grids4 = GSCV(gb, para_test4, n_jobs=4, iid=False, cv=5)\n",
    "grids4.fit(X, y)\n",
    "grids4.grid_scores_, grids4.best_params_, grids4.best_score_"
   ]
  },
  {
   "cell_type": "code",
   "execution_count": 60,
   "metadata": {
    "collapsed": true
   },
   "outputs": [],
   "source": [
    "para_test5 = {'subsample':[0.5,0.6,0.7,0.8,0.9]}"
   ]
  },
  {
   "cell_type": "code",
   "execution_count": 61,
   "metadata": {
    "collapsed": true
   },
   "outputs": [],
   "source": [
    "gb = GradientBoostingClassifier(n_estimators=90, max_depth=10, min_samples_split=600, \n",
    "                                min_samples_leaf=2, max_features=200, random_state=10)"
   ]
  },
  {
   "cell_type": "code",
   "execution_count": 62,
   "metadata": {
    "scrolled": true
   },
   "outputs": [
    {
     "name": "stderr",
     "output_type": "stream",
     "text": [
      "C:\\Users\\New User\\Anaconda3\\lib\\site-packages\\sklearn\\model_selection\\_search.py:761: DeprecationWarning: The grid_scores_ attribute was deprecated in version 0.18 in favor of the more elaborate cv_results_ attribute. The grid_scores_ attribute will not be available from 0.20\n",
      "  DeprecationWarning)\n"
     ]
    },
    {
     "data": {
      "text/plain": [
       "([mean: 0.73446, std: 0.00991, params: {'subsample': 0.5},\n",
       "  mean: 0.73459, std: 0.00775, params: {'subsample': 0.6},\n",
       "  mean: 0.73500, std: 0.00817, params: {'subsample': 0.7},\n",
       "  mean: 0.74109, std: 0.00801, params: {'subsample': 0.8},\n",
       "  mean: 0.73798, std: 0.00766, params: {'subsample': 0.9}],\n",
       " {'subsample': 0.8},\n",
       " 0.74109497886382736)"
      ]
     },
     "execution_count": 62,
     "metadata": {},
     "output_type": "execute_result"
    }
   ],
   "source": [
    "grids5 = GSCV(gb, para_test5, n_jobs=4, iid=False, cv=5)\n",
    "grids5.fit(X, y)\n",
    "grids5.grid_scores_, grids5.best_params_, grids5.best_score_"
   ]
  },
  {
   "cell_type": "code",
   "execution_count": 24,
   "metadata": {
    "collapsed": true
   },
   "outputs": [],
   "source": [
    "gb = GradientBoostingClassifier(criterion='mae', learning_rate=0.05, n_estimators=180, max_depth=10, \n",
    "                                min_samples_split=600, min_samples_leaf=2, max_features=200, subsample=0.8, \n",
    "                                random_state=10, verbose=1)"
   ]
  },
  {
   "cell_type": "code",
   "execution_count": 27,
   "metadata": {},
   "outputs": [
    {
     "name": "stdout",
     "output_type": "stream",
     "text": [
      "      Iter       Train Loss      OOB Improve   Remaining Time \n",
      "         1        5567.5535          29.2271          215.36m\n",
      "         2        5479.6501          24.1514          215.55m\n",
      "         3        5381.6386          23.7988          213.71m\n",
      "         4        5260.8325          26.2539          197.66m\n",
      "         5        5165.7319          23.5625          187.69m\n",
      "         6        5096.6274          22.6424          182.94m\n",
      "         7        5012.8668          18.8624          180.05m\n",
      "         8        4933.8093          17.2294          176.47m\n",
      "         9        4866.5229          19.7382          171.52m\n",
      "        10        4771.3141          17.3368          166.88m\n",
      "        20        4294.1078           8.5704          149.56m\n",
      "        30        4021.0603           3.9299          134.72m\n",
      "        40        3863.7827           1.6317          123.45m\n",
      "        50        3787.2343           1.1872          113.02m\n",
      "        60        3682.9367           0.7893          103.40m\n",
      "        70        3673.4254           0.1542           94.00m\n",
      "        80        3597.9480           0.2540           85.27m\n",
      "        90        3581.1751           0.0278           76.55m\n",
      "       100        3552.4259           0.0747           67.66m\n"
     ]
    },
    {
     "data": {
      "text/plain": [
       "GradientBoostingClassifier(criterion='mae', init=None, learning_rate=0.05,\n",
       "              loss='deviance', max_depth=10, max_features=200,\n",
       "              max_leaf_nodes=None, min_impurity_decrease=0.0,\n",
       "              min_impurity_split=None, min_samples_leaf=2,\n",
       "              min_samples_split=600, min_weight_fraction_leaf=0.0,\n",
       "              n_estimators=180, presort='auto', random_state=10,\n",
       "              subsample=0.8, verbose=1, warm_start=False)"
      ]
     },
     "execution_count": 27,
     "metadata": {},
     "output_type": "execute_result"
    }
   ],
   "source": [
    "gb.fit(X, y)"
   ]
  },
  {
   "cell_type": "code",
   "execution_count": 25,
   "metadata": {
    "scrolled": true
   },
   "outputs": [
    {
     "name": "stdout",
     "output_type": "stream",
     "text": [
      "      Iter       Train Loss      OOB Improve   Remaining Time \n",
      "         1        4461.5296          24.9851          120.98m\n",
      "         2        4375.7165          20.5097          131.65m\n",
      "         3        4299.4191          20.5453          131.55m\n",
      "         4        4212.5769          17.1335          123.31m\n",
      "         5        4117.1621          19.3932          115.95m\n",
      "         6        4057.6237          18.9229          111.37m\n",
      "         7        3988.5276          15.2579          107.90m\n",
      "         8        3933.5116          17.5720          105.43m\n",
      "         9        3866.1500          16.2500          102.66m\n",
      "        10        3772.2563          12.3610           99.67m\n",
      "        20        3390.5020           6.1604           83.31m\n",
      "        30        3189.7148           3.6619           72.47m\n",
      "        40        3071.7588           1.8783           64.41m\n",
      "        50        2966.2098           0.9622           56.72m\n",
      "        60        2886.5977           0.8844           50.47m\n",
      "        70        2833.4484           0.0421           45.20m\n",
      "        80        2825.8266           0.1184           40.19m\n",
      "        90        2776.4379           0.1755           35.95m\n",
      "       100        2703.4238           0.0606           31.76m\n",
      "      Iter       Train Loss      OOB Improve   Remaining Time \n",
      "         1        4457.1611          21.9685          117.18m\n",
      "         2        4361.7231          21.3670          112.97m\n",
      "         3        4265.6120          20.0588          111.66m\n",
      "         4        4203.6120          19.9173          109.92m\n",
      "         5        4115.6227          20.0661          106.27m\n",
      "         6        4045.8022          19.1687          102.49m\n",
      "         7        3986.1185          18.4846          100.83m\n",
      "         8        3888.3017          15.6443           98.23m\n",
      "         9        3827.5346          13.6312           95.41m\n",
      "        10        3774.4405          13.5694           91.72m\n",
      "        20        3372.4701           5.9896           78.31m\n",
      "        30        3164.6285           2.8087           71.23m\n",
      "        40        3033.8599           1.4470           62.88m\n",
      "        50        2937.0638           0.6000           56.67m\n",
      "        60        2883.0494           0.5041           50.11m\n",
      "        70        2851.0676           0.3764           44.54m\n",
      "        80        2807.0880           0.2140           39.23m\n",
      "        90        2760.4733          -0.0920           34.26m\n",
      "       100        2717.1431           0.4382           29.56m\n",
      "      Iter       Train Loss      OOB Improve   Remaining Time \n",
      "         1        4470.1083          23.5347          120.07m\n",
      "         2        4373.1762          20.9484          115.62m\n",
      "         3        4280.3340          21.6746          116.11m\n",
      "         4        4200.9768          22.3745          111.87m\n",
      "         5        4095.2517          19.6542          109.46m\n",
      "         6        4045.1163          18.1762          105.49m\n",
      "         7        3980.7459          17.8291          101.98m\n",
      "         8        3895.3014          15.3228          100.76m\n",
      "         9        3838.3920          14.3219           97.92m\n",
      "        10        3779.0147          12.9507           96.10m\n",
      "        20        3428.0925           5.6161           83.11m\n",
      "        30        3205.2843           3.1976           74.39m\n",
      "        40        3051.6965           1.1271           65.81m\n",
      "        50        2958.3836           0.5986           58.53m\n",
      "        60        2910.6822           0.6520           51.30m\n",
      "        70        2874.5486           0.2705           44.51m\n",
      "        80        2824.3757           0.4345           38.53m\n",
      "        90        2785.5070          -0.0437           33.59m\n",
      "       100        2719.7162           0.0366           29.16m\n",
      "      Iter       Train Loss      OOB Improve   Remaining Time \n",
      "         1        4470.5026          21.3030          118.11m\n",
      "         2        4377.7744          22.5243          117.18m\n",
      "         3        4285.8934          18.7395          114.89m\n",
      "         4        4201.2843          20.5869          111.06m\n",
      "         5        4102.2756          20.3000          109.38m\n",
      "         6        4044.1978          17.5282          102.76m\n",
      "         7        3991.7039          16.0146          100.17m\n",
      "         8        3919.2483          15.1684           96.68m\n",
      "         9        3845.6864          12.7620           96.33m\n",
      "        10        3793.0820          13.3392           93.22m\n",
      "        20        3416.4054           5.9602           78.25m\n",
      "        30        3180.5768           3.4976           68.01m\n",
      "        40        3026.4718           1.6450           55.98m\n",
      "        50        2904.1560           1.4202           47.41m\n",
      "        60        2840.2486           0.9294           40.79m\n",
      "        70        2772.9134           0.5318           35.95m\n",
      "        80        2761.2257           0.4614           31.74m\n",
      "        90        2711.7875           0.0010           28.04m\n",
      "       100        2645.9247           0.1378           24.68m\n",
      "      Iter       Train Loss      OOB Improve   Remaining Time \n",
      "         1        4454.1107          23.2933          116.41m\n",
      "         2        4379.3297          22.1268          121.11m\n",
      "         3        4295.8541          21.6249          115.84m\n",
      "         4        4204.1919          18.0446          114.36m\n",
      "         5        4116.8249          19.1800          111.10m\n",
      "         6        4045.6706          17.8463          110.70m\n",
      "         7        3964.7294          16.6500          107.98m\n",
      "         8        3915.4491          16.1748          105.28m\n",
      "         9        3852.3889          12.8674          102.21m\n",
      "        10        3819.2070          12.5247           97.74m\n",
      "        20        3422.4536           6.5479           82.66m\n",
      "        30        3204.9399           2.6280           73.69m\n",
      "        40        3098.3278           1.5588           64.40m\n",
      "        50        3009.9960           1.5067           57.37m\n",
      "        60        2920.7786           0.5941           51.17m\n",
      "        70        2858.5359           0.4796           45.26m\n",
      "        80        2831.3400           0.0754           40.44m\n",
      "        90        2783.2985           0.0256           36.21m\n",
      "       100        2729.6625           0.1458           31.80m\n"
     ]
    }
   ],
   "source": [
    "score = cvs(gb, X, y, cv=5)"
   ]
  },
  {
   "cell_type": "code",
   "execution_count": 26,
   "metadata": {},
   "outputs": [
    {
     "data": {
      "text/plain": [
       "array([ 0.7165088 ,  0.72764228,  0.74322493,  0.73509485,  0.73288136])"
      ]
     },
     "execution_count": 26,
     "metadata": {},
     "output_type": "execute_result"
    }
   ],
   "source": [
    "score"
   ]
  },
  {
   "cell_type": "code",
   "execution_count": 29,
   "metadata": {
    "collapsed": true
   },
   "outputs": [],
   "source": [
    "gb1 = GradientBoostingClassifier(criterion='mae', learning_rate=0.1, n_estimators=90, max_depth=10, \n",
    "                                min_samples_split=600, min_samples_leaf=2, max_features=200, subsample=0.8, \n",
    "                                random_state=10, verbose=1)"
   ]
  },
  {
   "cell_type": "code",
   "execution_count": 30,
   "metadata": {},
   "outputs": [
    {
     "name": "stdout",
     "output_type": "stream",
     "text": [
      "      Iter       Train Loss      OOB Improve   Remaining Time \n",
      "         1        5451.3470          56.7833          105.54m\n",
      "         2        5257.7922          49.2663          100.27m\n",
      "         3        5074.3923          44.4883           95.52m\n",
      "         4        4905.5670          35.3395           87.03m\n",
      "         5        4757.6835          35.9059           82.60m\n",
      "         6        4668.8006          29.2577           80.44m\n",
      "         7        4551.5618          23.8535           77.36m\n",
      "         8        4473.7844          18.7352           75.49m\n",
      "         9        4398.9050          21.0421           73.71m\n",
      "        10        4285.2741          19.8271           71.43m\n",
      "        20        3880.6252           3.3563           61.27m\n",
      "        30        3683.1331           2.3862           50.71m\n",
      "        40        3556.5474           0.4905           40.57m\n",
      "        50        3496.2155           0.3415           31.13m\n",
      "        60        3399.6343           0.3996           22.97m\n",
      "        70        3380.6164           0.0529           15.10m\n",
      "        80        3307.0460          -0.2911            7.44m\n",
      "        90        3270.8919          -0.2738            0.00s\n"
     ]
    },
    {
     "data": {
      "text/plain": [
       "GradientBoostingClassifier(criterion='mae', init=None, learning_rate=0.1,\n",
       "              loss='deviance', max_depth=10, max_features=200,\n",
       "              max_leaf_nodes=None, min_impurity_decrease=0.0,\n",
       "              min_impurity_split=None, min_samples_leaf=2,\n",
       "              min_samples_split=600, min_weight_fraction_leaf=0.0,\n",
       "              n_estimators=90, presort='auto', random_state=10,\n",
       "              subsample=0.8, verbose=1, warm_start=False)"
      ]
     },
     "execution_count": 30,
     "metadata": {},
     "output_type": "execute_result"
    }
   ],
   "source": [
    "gb1.fit(X, y)"
   ]
  },
  {
   "cell_type": "code",
   "execution_count": 31,
   "metadata": {
    "scrolled": true
   },
   "outputs": [
    {
     "name": "stdout",
     "output_type": "stream",
     "text": [
      "      Iter       Train Loss      OOB Improve   Remaining Time \n",
      "         1        4356.9331          50.8901           51.22m\n",
      "         2        4200.9276          36.5678           53.24m\n",
      "         3        4076.1003          33.0664           55.66m\n",
      "         4        3923.3665          31.5663           53.02m\n",
      "         5        3787.9751          28.0461           49.90m\n",
      "         6        3703.3443          25.3530           47.69m\n",
      "         7        3613.8294          20.7976           46.55m\n",
      "         8        3547.6363          19.5318           45.47m\n",
      "         9        3482.1078          16.6155           44.39m\n",
      "        10        3372.4364          11.2122           43.26m\n",
      "        20        3061.1656           4.2253           33.62m\n",
      "        30        2915.6104           1.1975           26.15m\n",
      "        40        2792.0497           1.0502           20.09m\n",
      "        50        2682.9587           0.1680           15.16m\n",
      "        60        2615.3680          -0.4907           10.94m\n",
      "        70        2564.5605          -0.2248            7.07m\n",
      "        80        2551.1123          -0.9488            3.43m\n",
      "        90        2496.8009          -0.8672            0.00s\n",
      "      Iter       Train Loss      OOB Improve   Remaining Time \n",
      "         1        4358.3966          43.3840           57.00m\n",
      "         2        4188.3631          37.6689           55.39m\n",
      "         3        4012.6581          38.3448           53.84m\n",
      "         4        3900.5516          31.4542           49.90m\n",
      "         5        3781.8503          29.6354           48.44m\n",
      "         6        3683.6080          24.5018           46.72m\n",
      "         7        3614.6084          21.4919           45.99m\n",
      "         8        3505.7357          16.4663           44.57m\n",
      "         9        3436.5474          14.5249           43.60m\n",
      "        10        3384.5760          13.4615           41.83m\n",
      "        20        3048.5759           2.8441           34.20m\n",
      "        30        2911.6542           0.6498           28.65m\n",
      "        40        2826.1184          -0.0132           23.58m\n",
      "        50        2748.4391          -0.7705           18.93m\n",
      "        60        2720.5749          -0.6887           14.08m\n",
      "        70        2707.7703          -0.5171            9.29m\n",
      "        80        2687.8372          -0.6095            4.63m\n",
      "        90        2681.0813          -0.5927            0.00s\n",
      "      Iter       Train Loss      OOB Improve   Remaining Time \n",
      "         1        4372.8039          46.0277           58.95m\n",
      "         2        4201.2643          38.3387           55.70m\n",
      "         3        4061.5815          32.6221           51.63m\n",
      "         4        3947.5585          31.2719           49.65m\n",
      "         5        3795.3095          28.9525           47.58m\n",
      "         6        3719.8263          22.6266           45.20m\n",
      "         7        3643.6846          22.9003           43.38m\n",
      "         8        3547.0809          16.1554           42.10m\n",
      "         9        3487.5717          15.5125           41.25m\n",
      "        10        3415.2738          13.3399           40.35m\n",
      "        20        3103.4255           2.7364           33.96m\n",
      "        30        2949.8247           1.9222           28.09m\n",
      "        40        2818.2004           0.1629           22.10m\n",
      "        50        2732.8248          -0.2167           16.65m\n",
      "        60        2689.6256           0.0725           12.26m\n",
      "        70        2661.9470          -0.3954            8.00m\n",
      "        80        2649.9544          -0.6305            3.89m\n",
      "        90        2620.7653          -1.4076            0.00s\n",
      "      Iter       Train Loss      OOB Improve   Remaining Time \n",
      "         1        4382.9754          41.1943           58.39m\n",
      "         2        4203.4789          42.8236           54.64m\n",
      "         3        4025.7387          38.3345           48.74m\n",
      "         4        3899.0787          30.4049           46.82m\n",
      "         5        3767.0036          27.0551           45.19m\n",
      "         6        3684.2635          22.2466           42.86m\n",
      "         7        3618.8575          20.0522           41.54m\n",
      "         8        3531.3399          15.8945           40.34m\n",
      "         9        3449.4670          14.6371           39.95m\n",
      "        10        3398.0151          12.8215           38.71m\n",
      "        20        3084.1062           2.8803           32.24m\n",
      "        30        2927.9760           0.5554           26.70m\n",
      "        40        2833.8752           0.3928           22.03m\n",
      "        50        2778.1856          -0.0070           17.55m\n",
      "        60        2754.6988          -0.4717           13.17m\n",
      "        70        2719.2674          -0.4353            8.86m\n",
      "        80        2729.8452           0.0444            4.46m\n",
      "        90        2683.7065          -0.5386            0.00s\n",
      "      Iter       Train Loss      OOB Improve   Remaining Time \n",
      "         1        4358.8817          45.6172           56.43m\n",
      "         2        4213.9292          40.5829           57.02m\n",
      "         3        4074.7810          34.7846           54.83m\n",
      "         4        3918.5767          31.5637           53.07m\n",
      "         5        3797.3644          26.2784           51.72m\n",
      "         6        3705.2860          22.3006           50.29m\n",
      "         7        3603.4070          19.6165           49.12m\n",
      "         8        3550.5730          18.1762           47.48m\n",
      "         9        3482.7148          14.1760           46.18m\n",
      "        10        3443.7200          11.8553           43.98m\n",
      "        20        3102.1555           3.4677           33.82m\n",
      "        30        2932.4477           1.1792           26.72m\n",
      "        40        2856.7113           0.1940           20.79m\n",
      "        50        2794.4000           0.2486           16.34m\n",
      "        60        2717.3479           0.1998           12.11m\n",
      "        70        2664.2607          -0.6833            7.94m\n",
      "        80        2629.5215          -1.3040            3.86m\n",
      "        90        2580.3262          -1.0217            0.00s\n"
     ]
    }
   ],
   "source": [
    "score1 = cvs(gb1, X, y, cv=5)"
   ]
  },
  {
   "cell_type": "code",
   "execution_count": 32,
   "metadata": {},
   "outputs": [
    {
     "data": {
      "text/plain": [
       "array([ 0.72056834,  0.72222222,  0.74119241,  0.72425474,  0.73152542])"
      ]
     },
     "execution_count": 32,
     "metadata": {},
     "output_type": "execute_result"
    }
   ],
   "source": [
    "score1"
   ]
  },
  {
   "cell_type": "code",
   "execution_count": 59,
   "metadata": {
    "collapsed": true
   },
   "outputs": [],
   "source": [
    "probability = gb1.predict_proba(X)"
   ]
  },
  {
   "cell_type": "code",
   "execution_count": 40,
   "metadata": {
    "collapsed": true,
    "scrolled": true
   },
   "outputs": [],
   "source": [
    "results = gb1.predict(X)"
   ]
  },
  {
   "cell_type": "code",
   "execution_count": 88,
   "metadata": {},
   "outputs": [
    {
     "data": {
      "text/plain": [
       "array([[ 0.96254338,  0.03261109,  0.00484553],\n",
       "       [ 0.97070031,  0.02385767,  0.00544202],\n",
       "       [ 0.52093234,  0.46896634,  0.01010132],\n",
       "       ..., \n",
       "       [ 0.17374381,  0.21072251,  0.61553367],\n",
       "       [ 0.88997048,  0.08433629,  0.02569323],\n",
       "       [ 0.87915458,  0.10494066,  0.01590476]])"
      ]
     },
     "execution_count": 88,
     "metadata": {},
     "output_type": "execute_result"
    }
   ],
   "source": [
    "probability"
   ]
  },
  {
   "cell_type": "code",
   "execution_count": 121,
   "metadata": {
    "collapsed": true
   },
   "outputs": [],
   "source": [
    "p1 = []\n",
    "p2 = []\n",
    "for i in range(len(probability)):\n",
    "    p1.append(probability[i][1])\n",
    "    p2.append(probability[i][2])"
   ]
  },
  {
   "cell_type": "code",
   "execution_count": 123,
   "metadata": {
    "collapsed": true
   },
   "outputs": [],
   "source": [
    "file = pd.DataFrame(columns=['location', 'fault_severity', 'proba_0', 'proba_1', 'proba_2'])"
   ]
  },
  {
   "cell_type": "code",
   "execution_count": 124,
   "metadata": {
    "collapsed": true
   },
   "outputs": [],
   "source": [
    "file['location'] = train['location']\n",
    "file['fault_severity'] = results\n",
    "file['proba_0'] = probability\n",
    "file['proba_1'] = p1\n",
    "file['proba_2'] = p2"
   ]
  },
  {
   "cell_type": "code",
   "execution_count": 125,
   "metadata": {
    "scrolled": false
   },
   "outputs": [
    {
     "data": {
      "text/html": [
       "<div>\n",
       "<style>\n",
       "    .dataframe thead tr:only-child th {\n",
       "        text-align: right;\n",
       "    }\n",
       "\n",
       "    .dataframe thead th {\n",
       "        text-align: left;\n",
       "    }\n",
       "\n",
       "    .dataframe tbody tr th {\n",
       "        vertical-align: top;\n",
       "    }\n",
       "</style>\n",
       "<table border=\"1\" class=\"dataframe\">\n",
       "  <thead>\n",
       "    <tr style=\"text-align: right;\">\n",
       "      <th></th>\n",
       "      <th>location</th>\n",
       "      <th>fault_severity</th>\n",
       "      <th>proba_0</th>\n",
       "      <th>proba_1</th>\n",
       "      <th>proba_2</th>\n",
       "    </tr>\n",
       "  </thead>\n",
       "  <tbody>\n",
       "    <tr>\n",
       "      <th>0</th>\n",
       "      <td>location 118</td>\n",
       "      <td>0</td>\n",
       "      <td>0.962543</td>\n",
       "      <td>0.032611</td>\n",
       "      <td>0.004846</td>\n",
       "    </tr>\n",
       "    <tr>\n",
       "      <th>1</th>\n",
       "      <td>location 91</td>\n",
       "      <td>0</td>\n",
       "      <td>0.970700</td>\n",
       "      <td>0.023858</td>\n",
       "      <td>0.005442</td>\n",
       "    </tr>\n",
       "    <tr>\n",
       "      <th>2</th>\n",
       "      <td>location 152</td>\n",
       "      <td>0</td>\n",
       "      <td>0.520932</td>\n",
       "      <td>0.468966</td>\n",
       "      <td>0.010101</td>\n",
       "    </tr>\n",
       "    <tr>\n",
       "      <th>3</th>\n",
       "      <td>location 931</td>\n",
       "      <td>0</td>\n",
       "      <td>0.545129</td>\n",
       "      <td>0.258165</td>\n",
       "      <td>0.196706</td>\n",
       "    </tr>\n",
       "    <tr>\n",
       "      <th>4</th>\n",
       "      <td>location 120</td>\n",
       "      <td>0</td>\n",
       "      <td>0.701579</td>\n",
       "      <td>0.258879</td>\n",
       "      <td>0.039542</td>\n",
       "    </tr>\n",
       "  </tbody>\n",
       "</table>\n",
       "</div>"
      ],
      "text/plain": [
       "       location  fault_severity   proba_0   proba_1   proba_2\n",
       "0  location 118               0  0.962543  0.032611  0.004846\n",
       "1   location 91               0  0.970700  0.023858  0.005442\n",
       "2  location 152               0  0.520932  0.468966  0.010101\n",
       "3  location 931               0  0.545129  0.258165  0.196706\n",
       "4  location 120               0  0.701579  0.258879  0.039542"
      ]
     },
     "execution_count": 125,
     "metadata": {},
     "output_type": "execute_result"
    }
   ],
   "source": [
    "file.head()"
   ]
  },
  {
   "cell_type": "raw",
   "metadata": {
    "collapsed": true
   },
   "source": [
    "file.to_csv('Service Disruption Results.csv', header=True, index=False)"
   ]
  },
  {
   "cell_type": "code",
   "execution_count": null,
   "metadata": {
    "collapsed": true
   },
   "outputs": [],
   "source": []
  },
  {
   "cell_type": "code",
   "execution_count": null,
   "metadata": {
    "collapsed": true
   },
   "outputs": [],
   "source": []
  }
 ],
 "metadata": {
  "kernelspec": {
   "display_name": "Python 3",
   "language": "python",
   "name": "python3"
  },
  "language_info": {
   "codemirror_mode": {
    "name": "ipython",
    "version": 3
   },
   "file_extension": ".py",
   "mimetype": "text/x-python",
   "name": "python",
   "nbconvert_exporter": "python",
   "pygments_lexer": "ipython3",
   "version": "3.6.3"
  }
 },
 "nbformat": 4,
 "nbformat_minor": 2
}
